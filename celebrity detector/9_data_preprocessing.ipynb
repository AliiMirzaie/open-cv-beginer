{
 "cells": [
  {
   "cell_type": "code",
   "execution_count": 17,
   "id": "ceb4349e",
   "metadata": {},
   "outputs": [],
   "source": [
    "import numpy as np\n",
    "import cv2\n",
    "import pandas as pd\n",
    "import os\n",
    "import pickle"
   ]
  },
  {
   "cell_type": "code",
   "execution_count": 18,
   "id": "73f03e95",
   "metadata": {},
   "outputs": [],
   "source": [
    "face_detection_model = './models/res10_300x300_ssd_iter_140000_fp16.caffemodel'\n",
    "face_detection_prot = './models/deploy.prototxt.txt'\n",
    "face_descriptor = './models/openface.nn4.small2.v1.t7'\n",
    "\n",
    "# load models\n",
    "detector_model = cv2.dnn.readNetFromCaffe(face_detection_prot, face_detection_model)\n",
    "descriptor_model = cv2.dnn.readNetFromTorch(face_descriptor)"
   ]
  },
  {
   "cell_type": "code",
   "execution_count": 19,
   "id": "ff97d559",
   "metadata": {},
   "outputs": [
    {
     "name": "stdout",
     "output_type": "stream",
     "text": [
      " Volume in drive D is New Volume\n",
      " Volume Serial Number is A8DC-3007\n",
      "\n",
      " Directory of D:\\Archive\\Record\\django_open_cv\\projects\\01-image-processing\\people-images\n",
      "\n",
      "01/12/2022  10:40 PM    <DIR>          .\n",
      "01/12/2022  10:48 PM    <DIR>          ..\n",
      "01/12/2022  10:34 PM    <DIR>          Elon Musk\n",
      "01/12/2022  10:36 PM    <DIR>          messi\n",
      "01/12/2022  10:39 PM    <DIR>          ronaldo\n",
      "01/12/2022  10:42 PM    <DIR>          shahrokh khan\n",
      "               0 File(s)              0 bytes\n",
      "               6 Dir(s)  67,846,619,136 bytes free\n"
     ]
    }
   ],
   "source": [
    "!dir people-images"
   ]
  },
  {
   "cell_type": "code",
   "execution_count": 20,
   "id": "59d2636f",
   "metadata": {},
   "outputs": [],
   "source": [
    "# sample image\n",
    "img = cv2.imread('./images/1.jpeg')\n",
    "cv2.imshow('image', img)\n",
    "cv2.waitKey(0)\n",
    "cv2.destroyAllWindows()\n",
    "\n",
    "if len(detections) > 0:\n",
    "    i = np.argmax(detections[0,0,:,2])\n",
    "    confidence = detections[0,0,i,2]\n",
    "    if confidence > 0.5:\n",
    "        box = detections[0,0,i,3:7] * np.array([w,h,w,h])\n",
    "        (startx, starty, endx, endy) = box.astype('int')\n",
    "        # step 2: feature extraction\n",
    "        roi = image[starty:endy, startx:endx].copy()\n",
    "        # get the face descriptor\n",
    "        faceblob = cv2.dnn.blobFromImage(roi, 1/255, (96,96), (0,0,0), swapRB=True, crop=True)\n",
    "        descriptor_model.setInput(faceblob)\n",
    "        vectors = descriptor_model.forward()"
   ]
  },
  {
   "cell_type": "code",
   "execution_count": 44,
   "id": "204da4ef",
   "metadata": {},
   "outputs": [],
   "source": [
    "def helper(image_path):\n",
    "    img = cv2.imread(image_path)\n",
    "    # step-1: face detection\n",
    "    image = img.copy()\n",
    "    h,w = image.shape[:2]\n",
    "    img_blob = cv2.dnn.blobFromImage(image,1,(300,300),(104,177,123),swapRB=False,crop=False)\n",
    "    # set the input\n",
    "    detector_model.setInput(img_blob)\n",
    "    detections = detector_model.forward()\n",
    "\n",
    "    if len(detections) > 0:\n",
    "        i = np.argmax(detections[0,0,:,2])\n",
    "        confidence = detections[0,0,i,2]\n",
    "        if confidence > 0.5:\n",
    "            box = detections[0,0,i,3:7]*np.array([w,h,w,h])\n",
    "            (startx,starty,endx,endy) = box.astype('int')\n",
    "            # step-2: Feature Extraction or Embedding\n",
    "            roi = image[starty:endy,startx:endx].copy()\n",
    "            # get the face descriptors\n",
    "            faceblob = cv2.dnn.blobFromImage(roi,1/255,(96,96),(0,0,0),swapRB=True,crop=True)\n",
    "            descriptor_model.setInput(faceblob)\n",
    "            vectors = descriptor_model.forward()\n",
    "            \n",
    "            return vectors\n",
    "    return None"
   ]
  },
  {
   "cell_type": "code",
   "execution_count": 47,
   "id": "2605ffb3",
   "metadata": {},
   "outputs": [],
   "source": [
    "data = dict(data=[], label=[])\n",
    "\n",
    "folders = os.listdir('people-images')\n",
    "for folder in folders:\n",
    "    filenames = os.listdir('people-images/{}'.format(folder))\n",
    "    for filename in filenames:\n",
    "        try:\n",
    "            vector = helper('./people-images/{}/{}'.format(folder, filename))\n",
    "            if vector is not None:\n",
    "                data['data'].append(vector)\n",
    "                data['label'].append(folder)\n",
    "        except:\n",
    "            print('error')\n",
    "            \n",
    "            "
   ]
  },
  {
   "cell_type": "code",
   "execution_count": 48,
   "id": "4b6b4c9a",
   "metadata": {},
   "outputs": [
    {
     "data": {
      "text/plain": [
       "dict_keys(['data', 'label'])"
      ]
     },
     "execution_count": 48,
     "metadata": {},
     "output_type": "execute_result"
    }
   ],
   "source": [
    "data.keys()"
   ]
  },
  {
   "cell_type": "code",
   "execution_count": 49,
   "id": "9f0231dd",
   "metadata": {},
   "outputs": [
    {
     "data": {
      "text/plain": [
       "Elon Musk        10\n",
       "messi            10\n",
       "ronaldo          10\n",
       "shahrokh khan    10\n",
       "dtype: int64"
      ]
     },
     "execution_count": 49,
     "metadata": {},
     "output_type": "execute_result"
    }
   ],
   "source": [
    "pd.Series(data['label']).value_counts()"
   ]
  },
  {
   "cell_type": "code",
   "execution_count": 50,
   "id": "31cad75d",
   "metadata": {},
   "outputs": [],
   "source": [
    "pickle.dump(data,open('data_face_features.pickle', mode='wb'))"
   ]
  },
  {
   "cell_type": "code",
   "execution_count": null,
   "id": "e4f522b9",
   "metadata": {},
   "outputs": [],
   "source": []
  }
 ],
 "metadata": {
  "kernelspec": {
   "display_name": "Python 3 (ipykernel)",
   "language": "python",
   "name": "python3"
  },
  "language_info": {
   "codemirror_mode": {
    "name": "ipython",
    "version": 3
   },
   "file_extension": ".py",
   "mimetype": "text/x-python",
   "name": "python",
   "nbconvert_exporter": "python",
   "pygments_lexer": "ipython3",
   "version": "3.7.9"
  }
 },
 "nbformat": 4,
 "nbformat_minor": 5
}
