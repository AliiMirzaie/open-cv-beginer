{
 "cells": [
  {
   "cell_type": "code",
   "execution_count": 1,
   "id": "59c58811",
   "metadata": {},
   "outputs": [],
   "source": [
    "import numpy as np\n",
    "import cv2\n",
    "import sklearn\n",
    "import pickle"
   ]
  },
  {
   "cell_type": "code",
   "execution_count": 2,
   "id": "4d56ca85",
   "metadata": {},
   "outputs": [],
   "source": [
    "# face detection\n",
    "face_detector_model = cv2.dnn.readNetFromCaffe('./models/deploy.prototxt.txt', \n",
    "                                               './models/res10_300x300_ssd_iter_140000_fp16.caffemodel')\n",
    "\n",
    "\n",
    "# feature extraction\n",
    "face_feature_model = cv2.dnn.readNetFromTorch('./models/openface.nn4.small2.v1.t7')\n",
    "\n",
    "\n",
    "# face recognition\n",
    "face_recognition_model = pickle.load(open('./models/ml_face_person_identity.pkl', mode='rb'))"
   ]
  },
  {
   "cell_type": "code",
   "execution_count": 7,
   "id": "f6c977af",
   "metadata": {},
   "outputs": [
    {
     "name": "stdout",
     "output_type": "stream",
     "text": [
      "['ronaldo']\n",
      "0.5888964668153781\n"
     ]
    }
   ],
   "source": [
    "# pipeline models\n",
    "\n",
    "img = cv2.imread('./images/1.jpeg')\n",
    "\n",
    "image = img.copy()\n",
    "h,w = img.shape[:2]\n",
    "img_blob = cv2.dnn.blobFromImage(img, 1, (300,300), (104,177,123), swapRB=False, crop=False)\n",
    "face_detector_model.setInput(img_blob)\n",
    "detections = face_detector_model.forward()\n",
    "\n",
    "if len(detections) > 0:\n",
    "    for i, confidence in enumerate(detections[0,0,:,2]):\n",
    "        if confidence > 0.5:\n",
    "            box = detections[0,0,i,3:7]*np.array([w,h,w,h])\n",
    "            startx, starty, endx, endy = box.astype('int')\n",
    "            cv2.rectangle(image, (startx, starty),(endx, endy), (0,255,0))\n",
    "            \n",
    "            # feature extraction\n",
    "            face_roi = img[starty:endy, startx:endx]\n",
    "            face_blob = cv2.dnn.blobFromImage(face_roi,1/255,(96,96), (0,0,0),swapRB=True, crop=True)\n",
    "            face_feature_model.setInput(face_blob)\n",
    "            verctors = face_feature_model.forward()\n",
    "            \n",
    "            # predict with machine learning\n",
    "            face_name = face_recognition_model.predict(verctors)\n",
    "            face_score = face_recognition_model.predict_proba(verctors).max()\n",
    "            \n",
    "            print(face_name)\n",
    "            print(face_score)\n",
    "\n",
    "\n",
    "cv2.imshow('image', image)\n",
    "cv2.waitKey(0)\n",
    "cv2.destroyAllWindows()"
   ]
  },
  {
   "cell_type": "code",
   "execution_count": null,
   "id": "dcc1c859",
   "metadata": {},
   "outputs": [],
   "source": []
  }
 ],
 "metadata": {
  "kernelspec": {
   "display_name": "Python 3 (ipykernel)",
   "language": "python",
   "name": "python3"
  },
  "language_info": {
   "codemirror_mode": {
    "name": "ipython",
    "version": 3
   },
   "file_extension": ".py",
   "mimetype": "text/x-python",
   "name": "python",
   "nbconvert_exporter": "python",
   "pygments_lexer": "ipython3",
   "version": "3.7.9"
  }
 },
 "nbformat": 4,
 "nbformat_minor": 5
}
